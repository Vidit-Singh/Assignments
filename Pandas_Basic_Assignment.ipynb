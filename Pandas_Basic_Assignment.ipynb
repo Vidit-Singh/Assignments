{
 "cells": [
  {
   "cell_type": "markdown",
   "id": "ca7551ed",
   "metadata": {},
   "source": [
    "# Q1. Create a Pandas Series that contains the following data: 4, 8, 15, 16, 23, and 42. Then, print the series."
   ]
  },
  {
   "cell_type": "code",
   "execution_count": 1,
   "id": "a960790e",
   "metadata": {},
   "outputs": [],
   "source": [
    "import pandas as pd"
   ]
  },
  {
   "cell_type": "code",
   "execution_count": 6,
   "id": "dd360e62",
   "metadata": {},
   "outputs": [
    {
     "name": "stdout",
     "output_type": "stream",
     "text": [
      "0     4\n",
      "1     8\n",
      "2    15\n",
      "3    16\n",
      "4    23\n",
      "5    42\n",
      "dtype: int64\n",
      "<class 'pandas.core.series.Series'>\n"
     ]
    }
   ],
   "source": [
    "pandas_series = pd.Series([4,8,15,16,23,42])\n",
    "print(pandas_series)\n",
    "print(type(pandas_series))"
   ]
  },
  {
   "cell_type": "code",
   "execution_count": null,
   "id": "a5eea349",
   "metadata": {},
   "outputs": [],
   "source": []
  },
  {
   "cell_type": "markdown",
   "id": "6531f463",
   "metadata": {},
   "source": [
    "# Q2. Create a variable of list type containing 10 elements in it, and apply pandas.Series function on the variable print it."
   ]
  },
  {
   "cell_type": "code",
   "execution_count": 10,
   "id": "ea46eec1",
   "metadata": {},
   "outputs": [
    {
     "name": "stdout",
     "output_type": "stream",
     "text": [
      "0        1\n",
      "1        2\n",
      "2        3\n",
      "3        4\n",
      "4        5\n",
      "5        6\n",
      "6        7\n",
      "7        8\n",
      "8        9\n",
      "9    hello\n",
      "dtype: object\n",
      "<class 'pandas.core.series.Series'>\n"
     ]
    }
   ],
   "source": [
    "ls = [1,2,3,4,5,6,7,8,9,'hello']\n",
    "pd_series = pd.Series(ls)\n",
    "print(pd_series)\n",
    "print(type(pd_series))"
   ]
  },
  {
   "cell_type": "code",
   "execution_count": null,
   "id": "490b384b",
   "metadata": {},
   "outputs": [],
   "source": []
  },
  {
   "cell_type": "markdown",
   "id": "57fbf36e",
   "metadata": {},
   "source": [
    "# Q3. Create a Pandas DataFrame that contains the following data: Then, print the DataFrame."
   ]
  },
  {
   "cell_type": "code",
   "execution_count": 12,
   "id": "c3f4a8ec",
   "metadata": {},
   "outputs": [
    {
     "name": "stdout",
     "output_type": "stream",
     "text": [
      "     Name  Age  Gender\n",
      "0   Alice   25  Female\n",
      "1     Bob   30    Male\n",
      "2  Claire   27  Female\n"
     ]
    }
   ],
   "source": [
    "data = [['Alice',25,'Female'],['Bob',30,'Male'],['Claire',27,'Female']]\n",
    "\n",
    "df = pd.DataFrame(data, columns = ['Name','Age','Gender'])\n",
    "\n",
    "print(df)\n"
   ]
  },
  {
   "cell_type": "code",
   "execution_count": 13,
   "id": "19015080",
   "metadata": {},
   "outputs": [
    {
     "name": "stdout",
     "output_type": "stream",
     "text": [
      "     Name  Age  Gender\n",
      "0   Alice   25  Female\n",
      "1     Bob   30    Male\n",
      "2  Claire   27  Female\n"
     ]
    }
   ],
   "source": [
    "data = {'Name':['Alice','Bob','Claire'],'Age':[25,30,27],'Gender':['Female','Male','Female']}\n",
    "\n",
    "df = pd.DataFrame(data)\n",
    "\n",
    "print(df)"
   ]
  },
  {
   "cell_type": "code",
   "execution_count": null,
   "id": "c03d6cb9",
   "metadata": {},
   "outputs": [],
   "source": []
  },
  {
   "cell_type": "markdown",
   "id": "383cef6c",
   "metadata": {},
   "source": [
    "# Q4. What is ‘DataFrame’ in pandas and how is it different from pandas.series? Explain with an example."
   ]
  },
  {
   "cell_type": "markdown",
   "id": "bab0afde",
   "metadata": {},
   "source": [
    "- In pandas, a DataFrame is a two-dimensional, size-mutable, and potentially heterogeneous tabular data structure with labeled axes (rows and columns). It is similar to a table in a database or an Excel spreadsheet. On the other hand, a Series is a one-dimensional labeled array capable of holding any data type (integer, string, float, etc.).\n",
    "\n",
    "Here are the key differences:\n",
    "\n",
    "1) Dimension:\n",
    "\n",
    "- Series: One-dimensional.\n",
    "- DataFrame: Two-dimensional.\n",
    "\n",
    "2) Structure:\n",
    "\n",
    "- Series: Similar to a single column of data.\n",
    "- DataFrame: A collection of Series objects, which can be considered as a table with multiple columns.\n",
    "\n",
    "3) Indexing:\n",
    "\n",
    "- Series: Has a single axis (axis=0).\n",
    "- DataFrame: Has two axes (axis=0 for rows and axis=1 for columns\n",
    "\n",
    "4) Usage:\n",
    "\n",
    "- Series: Used when dealing with single-dimensional data, like a list.\n",
    "- DataFrame: Used when dealing with two-dimensional data, like a table."
   ]
  },
  {
   "cell_type": "code",
   "execution_count": 17,
   "id": "215f8116",
   "metadata": {},
   "outputs": [
    {
     "name": "stdout",
     "output_type": "stream",
     "text": [
      "Series: \n",
      "a    1\n",
      "b    2\n",
      "c    3\n",
      "d    4\n",
      "e    5\n",
      "dtype: int64\n"
     ]
    }
   ],
   "source": [
    "# Example:\n",
    "# Creating a Series:\n",
    "data_series = pd.Series(data = [1,2,3,4,5], index = ['a','b','c','d','e'])\n",
    "print('Series: ')\n",
    "print(data_series)\n"
   ]
  },
  {
   "cell_type": "code",
   "execution_count": 18,
   "id": "a28021e0",
   "metadata": {},
   "outputs": [
    {
     "name": "stdout",
     "output_type": "stream",
     "text": [
      "\n",
      "DataFrame:\n",
      "      A  B   C\n",
      "row1  1  5   9\n",
      "row2  2  6  10\n",
      "row3  3  7  11\n",
      "row4  4  8  12\n"
     ]
    }
   ],
   "source": [
    "# Creating a DataFrame\n",
    "data = {\n",
    "    'A': [1, 2, 3, 4],\n",
    "    'B': [5, 6, 7, 8],\n",
    "    'C': [9, 10, 11, 12]\n",
    "}\n",
    "data_frame = pd.DataFrame(data, index=['row1', 'row2', 'row3', 'row4'])\n",
    "print(\"\\nDataFrame:\")\n",
    "print(data_frame)"
   ]
  },
  {
   "cell_type": "code",
   "execution_count": null,
   "id": "47b8a6c8",
   "metadata": {},
   "outputs": [],
   "source": []
  },
  {
   "cell_type": "markdown",
   "id": "2da2b1ec",
   "metadata": {},
   "source": [
    "# Q5. What are some common functions you can use to manipulate data in a Pandas DataFrame? Canyou give an example of when you might use one of these functions?"
   ]
  },
  {
   "cell_type": "markdown",
   "id": "b94f03fc",
   "metadata": {},
   "source": [
    "- Pandas provides a rich set of functions to manipulate data within a DataFrame. Here are some common functions and their uses:\n",
    "\n",
    "Common Functions:\n",
    "\n",
    "1) Head and Tail:\n",
    "\n",
    "- df.head(n): Returns the first n rows of the DataFrame.\n",
    "- df.tail(n): Returns the last n rows of the DataFrame.\n",
    "\n",
    "2) Describe:\n",
    "\n",
    "- df.describe(): Generates descriptive statistics of the DataFrame.\n",
    "\n",
    "3) Info:\n",
    "\n",
    "- df.info(): Provides a concise summary of the DataFrame, including the index dtype and columns, non-null values, and memory usage.\n",
    "\n",
    "4) Shape:\n",
    "\n",
    "- df.shape: Returns a tuple representing the dimensionality of the DataFrame (number of rows, number of columns).\n",
    "\n",
    "5) Isnull:\n",
    "\n",
    "- df.isnull(): Detects missing values, returning a DataFrame of the same shape with boolean values indicating the presence of null values.\n",
    "\n",
    "6) Dropna:\n",
    "\n",
    "- df.dropna(): Removes rows or columns with missing values.\n",
    "\n",
    "7) Fillna:\n",
    "\n",
    "- df.fillna(value): Fills missing values with the specified value.\n",
    "\n",
    "8) Sort Values:\n",
    "\n",
    "- df.sort_values(by, ascending=True): Sorts the DataFrame by the specified column(s).\n",
    "\n",
    "9) Groupby:\n",
    "\n",
    "- df.groupby(by): Groups the DataFrame using a mapper or by a Series of columns.\n",
    "\n",
    "10) Merge and Join:\n",
    "\n",
    "- pd.merge(left, right, how, on): Merges two DataFrames using database-style join operations.\n",
    "- df.join(other, on): Joins columns with other DataFrame."
   ]
  },
  {
   "cell_type": "code",
   "execution_count": 19,
   "id": "3c3c143c",
   "metadata": {},
   "outputs": [],
   "source": [
    "import pandas as pd\n",
    "\n",
    "# Sample data\n",
    "data = {\n",
    "    'Product': ['A', 'B', 'A', 'B', 'C', 'A', 'C', 'B'],\n",
    "    'Sales': [100, 200, None, 150, 300, None, 350, 400],\n",
    "    'Quantity': [1, 2, 1, 1, 3, 1, 2, 3]\n",
    "}\n",
    "\n",
    "# Creating DataFrame\n",
    "df = pd.DataFrame(data)"
   ]
  },
  {
   "cell_type": "code",
   "execution_count": 21,
   "id": "98405d20",
   "metadata": {},
   "outputs": [
    {
     "name": "stdout",
     "output_type": "stream",
     "text": [
      "Head of the DataFrame:\n",
      "  Product  Sales  Quantity\n",
      "0       A  100.0         1\n",
      "1       B  200.0         2\n",
      "2       A    NaN         1\n",
      "3       B  150.0         1\n",
      "4       C  300.0         3\n",
      "\n",
      "Descriptive statistics:\n",
      "            Sales  Quantity\n",
      "count    6.000000  8.000000\n",
      "mean   250.000000  1.750000\n",
      "std    118.321596  0.886405\n",
      "min    100.000000  1.000000\n",
      "25%    162.500000  1.000000\n",
      "50%    250.000000  1.500000\n",
      "75%    337.500000  2.250000\n",
      "max    400.000000  3.000000\n",
      "\n",
      "Check for missing values:\n",
      "   Product  Sales  Quantity\n",
      "0    False  False     False\n",
      "1    False  False     False\n",
      "2    False   True     False\n",
      "3    False  False     False\n",
      "4    False  False     False\n",
      "5    False   True     False\n",
      "6    False  False     False\n",
      "7    False  False     False\n",
      "\n",
      "DataFrame after filling missing values:\n",
      "  Product  Sales  Quantity\n",
      "0       A  100.0         1\n",
      "1       B  200.0         2\n",
      "2       A  250.0         1\n",
      "3       B  150.0         1\n",
      "4       C  300.0         3\n",
      "5       A  250.0         1\n",
      "6       C  350.0         2\n",
      "7       B  400.0         3\n",
      "\n",
      "Total sales by product:\n",
      "         Sales  Quantity\n",
      "Product                 \n",
      "A        600.0         3\n",
      "B        750.0         6\n",
      "C        650.0         5\n",
      "\n",
      "Sorted total sales by product:\n",
      "         Sales  Quantity\n",
      "Product                 \n",
      "B        750.0         6\n",
      "C        650.0         5\n",
      "A        600.0         3\n"
     ]
    }
   ],
   "source": [
    "# 1. Display the first few rows\n",
    "print(\"Head of the DataFrame:\")\n",
    "print(df.head())\n",
    "\n",
    "# 2. Get summary statistics\n",
    "print(\"\\nDescriptive statistics:\")\n",
    "print(df.describe())\n",
    "\n",
    "# 3. Check for missing values\n",
    "print(\"\\nCheck for missing values:\")\n",
    "print(df.isnull())\n",
    "\n",
    "# 4. Fill missing values in 'Sales' with the mean value of 'Sales'\n",
    "df['Sales'] = df['Sales'].fillna(df['Sales'].mean())\n",
    "print(\"\\nDataFrame after filling missing values:\")\n",
    "print(df)\n",
    "\n",
    "# 5. Group by 'Product' and calculate total sales\n",
    "grouped_df = df.groupby('Product').sum()\n",
    "print(\"\\nTotal sales by product:\")\n",
    "print(grouped_df)\n",
    "\n",
    "# 6. Sort values by 'Sales'\n",
    "sorted_df = grouped_df.sort_values(by='Sales', ascending=False)\n",
    "print(\"\\nSorted total sales by product:\")\n",
    "print(sorted_df)"
   ]
  },
  {
   "cell_type": "code",
   "execution_count": null,
   "id": "7cd92ffa",
   "metadata": {},
   "outputs": [],
   "source": []
  },
  {
   "cell_type": "markdown",
   "id": "24a6492e",
   "metadata": {},
   "source": [
    "# Q6. Which of the following is mutable in nature Series, DataFrame, Panel?"
   ]
  },
  {
   "cell_type": "markdown",
   "id": "fd6bbf35",
   "metadata": {},
   "source": [
    "- In pandas, both Series and DataFrame are mutable, whereas Panel is not commonly used anymore and has been deprecated since pandas version 0.25.0 in favor of using multi-indexed DataFrames"
   ]
  },
  {
   "cell_type": "code",
   "execution_count": 22,
   "id": "48a5fba8",
   "metadata": {},
   "outputs": [
    {
     "name": "stdout",
     "output_type": "stream",
     "text": [
      "Original Series:\n",
      "0    1\n",
      "1    2\n",
      "2    3\n",
      "3    4\n",
      "dtype: int64\n",
      "\n",
      "Modified Series:\n",
      "0    1\n",
      "1    5\n",
      "2    3\n",
      "3    4\n",
      "dtype: int64\n"
     ]
    }
   ],
   "source": [
    "# Mutable Nature of pandas Structures\n",
    "# Series: A one-dimensional array with axis labels. It is mutable, meaning you can change its elements, indices, and even add or remove elements.\n",
    "import pandas as pd\n",
    "\n",
    "# Creating a Series\n",
    "s = pd.Series([1, 2, 3, 4])\n",
    "print(\"Original Series:\")\n",
    "print(s)\n",
    "\n",
    "# Modifying an element\n",
    "s[1] = 5\n",
    "print(\"\\nModified Series:\")\n",
    "print(s)\n"
   ]
  },
  {
   "cell_type": "code",
   "execution_count": 23,
   "id": "29932c04",
   "metadata": {},
   "outputs": [
    {
     "name": "stdout",
     "output_type": "stream",
     "text": [
      "Original DataFrame:\n",
      "   A  B\n",
      "0  1  4\n",
      "1  2  5\n",
      "2  3  6\n",
      "\n",
      "Modified DataFrame:\n",
      "    A  B\n",
      "0  10  4\n",
      "1   2  5\n",
      "2   3  6\n"
     ]
    }
   ],
   "source": [
    "# DataFrame: A two-dimensional, size-mutable, and potentially heterogeneous tabular data structure with labeled axes (rows and columns). It is mutable, allowing changes to elements, rows, columns, and even the structure of the DataFrame itself\n",
    "# Creating a DataFrame\n",
    "df = pd.DataFrame({'A': [1, 2, 3], 'B': [4, 5, 6]})\n",
    "print(\"Original DataFrame:\")\n",
    "print(df)\n",
    "\n",
    "# Modifying an element\n",
    "df.at[0, 'A'] = 10\n",
    "print(\"\\nModified DataFrame:\")\n",
    "print(df)\n"
   ]
  },
  {
   "cell_type": "markdown",
   "id": "f3b14dc3",
   "metadata": {},
   "source": [
    "- Deprecation of Panel\n",
    "Panel: A three-dimensional data structure that was mutable but has been deprecated. Users are encouraged to use MultiIndex DataFrames for three-dimensional data."
   ]
  },
  {
   "cell_type": "code",
   "execution_count": null,
   "id": "04c05827",
   "metadata": {},
   "outputs": [],
   "source": []
  },
  {
   "cell_type": "markdown",
   "id": "7e5f6170",
   "metadata": {},
   "source": [
    "# Q7. Create a DataFrame using multiple Series. Explain with an example."
   ]
  },
  {
   "cell_type": "markdown",
   "id": "77472e6b",
   "metadata": {},
   "source": [
    "- Creating a DataFrame using multiple Series in pandas involves combining these Series into a two-dimensional data structure. Each Series can be thought of as a column in the resulting DataFrame. Here’s an example to illustrate this process:\n",
    "\n",
    "Let's create a DataFrame using three different Series, representing student data.\n",
    "\n",
    "- Creating Series:\n",
    "\n",
    "names: Series containing student names.\n",
    "ages: Series containing student ages.\n",
    "grades: Series containing student grades.\n",
    "Combining Series into a DataFrame:\n",
    "\n",
    "- Use pd.DataFrame() to combine these Series into a DataFrame."
   ]
  },
  {
   "cell_type": "code",
   "execution_count": 24,
   "id": "ebfc2a47",
   "metadata": {},
   "outputs": [
    {
     "name": "stdout",
     "output_type": "stream",
     "text": [
      "DataFrame:\n",
      "      Name  Age Grade\n",
      "0    Alice   24     A\n",
      "1      Bob   27     B\n",
      "2  Charlie   22     A\n",
      "3    David   23     B\n"
     ]
    }
   ],
   "source": [
    "import pandas as pd\n",
    "\n",
    "# Creating Series\n",
    "names = pd.Series(['Alice', 'Bob', 'Charlie', 'David'])\n",
    "ages = pd.Series([24, 27, 22, 23])\n",
    "grades = pd.Series(['A', 'B', 'A', 'B'])\n",
    "\n",
    "# Combining Series into a DataFrame\n",
    "student_data = pd.DataFrame({\n",
    "    'Name': names,\n",
    "    'Age': ages,\n",
    "    'Grade': grades\n",
    "})\n",
    "\n",
    "print(\"DataFrame:\")\n",
    "print(student_data)\n"
   ]
  },
  {
   "cell_type": "code",
   "execution_count": null,
   "id": "c8359e83",
   "metadata": {},
   "outputs": [],
   "source": []
  }
 ],
 "metadata": {
  "kernelspec": {
   "display_name": "Python 3 (ipykernel)",
   "language": "python",
   "name": "python3"
  },
  "language_info": {
   "codemirror_mode": {
    "name": "ipython",
    "version": 3
   },
   "file_extension": ".py",
   "mimetype": "text/x-python",
   "name": "python",
   "nbconvert_exporter": "python",
   "pygments_lexer": "ipython3",
   "version": "3.9.12"
  }
 },
 "nbformat": 4,
 "nbformat_minor": 5
}
