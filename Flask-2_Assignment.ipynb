{
 "cells": [
  {
   "cell_type": "markdown",
   "id": "aa7ca20c-d9f4-4c75-873a-db8cd510205e",
   "metadata": {},
   "source": [
    "# Q1. Explain GET and POST methods."
   ]
  },
  {
   "cell_type": "markdown",
   "id": "bd141720-0b7e-4a8d-970f-df1b962b7f83",
   "metadata": {},
   "source": [
    "GET Method\n",
    "\n",
    "- The GET method is a type of HTTP request used to retrieve data from a server. Additionally, GET can be used to send data to the server through the URL as query parameters. When a client (such as a web browser) makes a GET request, it requests a specific resource or data, identified by the URL, and optionally sends data as part of the request\n",
    "\n",
    "Example Usage:\n",
    "- Fetching Web Pages: Loading a webpage.\n",
    "  GET /index.html HTTP/1.1\n",
    "- Retrieving Data: Querying a database for information.\n",
    "  GET /products?category=books&price=low HTTP/1.1\n",
    "  \n",
    "Detailed Characteristics:\n",
    "\n",
    "- Data Transmission: Data is appended to the URL as query parameters.\n",
    "  Example: For a search query for \"books\", the URL might look like www.example.com/search?q=books.\n",
    "- Idempotent: Making the same GET request multiple times will always result in the same response and does not alter the state of the server.\n",
    "- Safe: The GET method does not change the server state; it only retrieves data.\n",
    "- Visibility: Data is visible in the URL, making it suitable for non-sensitive information.\n",
    "- Caching: GET requests can be cached by browsers and intermediary servers to enhance performance.\n",
    "- Bookmarkable: URLs with GET parameters can be bookmarked or shared easily.\n",
    "- Length Limitation: URLs, including query parameters, are subject to length limitations imposed by browsers and servers, typically around 2,048 characters.\n",
    "\n",
    "POST Method :\n",
    "\n",
    "- The POST method is a type of HTTP request used to send data to a server to create or update a resource. When a client makes a POST request, it includes the data in the body of the request, not in the URL. The server processes this data and usually changes its state or the state of the resources it manages.\n",
    "\n",
    "Example Usage:\n",
    "- Submitting Forms: User registration or login forms.\n",
    "  POST /register HTTP/1.1\n",
    "  Request Body: username=johndoe&password=securepassword\n",
    "- Uploading Files: Uploading an image or document.\n",
    "  POST /upload HTTP/1.1\n",
    "  Request Body: [Binary data of the file\n",
    "\n",
    "\n",
    "Detailed Characteristics:\n",
    "- Data Transmission: Data is included in the body of the request.\n",
    "  Example: Submitting a form with user information.\n",
    "- Not Idempotent: Making the same POST request multiple times can result in different outcomes, as it may create multiple resources or have cumulative effects.\n",
    "- Changes Server State: The POST method is used for operations that modify server resources, such as creating a new user or updating a record.\n",
    "- Hidden Data: The data is not visible in the URL, making it more secure for transmitting sensitive information.\n",
    "- No Length Limitation: POST requests are not limited by URL length since the data is in the body.\n",
    "- Not Cacheable: POST requests are generally not cached by browsers or intermediary servers."
   ]
  },
  {
   "cell_type": "code",
   "execution_count": null,
   "id": "cfe61ed9-e502-4214-aca6-6dc06ec52689",
   "metadata": {},
   "outputs": [],
   "source": []
  },
  {
   "cell_type": "markdown",
   "id": "bd528679-eb9f-47cb-91a4-e0b167802345",
   "metadata": {},
   "source": [
    "# Q2. Why is request used in Flask?"
   ]
  },
  {
   "cell_type": "markdown",
   "id": "0af9176d-6128-44d5-9fb4-d0bd7f52a89d",
   "metadata": {},
   "source": [
    "- Definition of request in Flask: \n",
    "The request object in Flask is an instance of the Request class provided by the Werkzeug WSGI toolkit, which Flask is built upon. It encapsulates all the data and context related to an incoming HTTP request. This object allows Flask applications to access and manipulate the data sent by clients, enabling the server to respond appropriately based on the client's request.\n",
    "\n",
    "Purpose of request in Flask\n",
    "- Accessing Request Data: The request object provides a way to access the data sent by the client (such as a web browser) to the server.\n",
    "- Handling Different HTTP Methods: It helps in managing different types of HTTP requests (GET, POST, PUT, DELETE, etc.).\n",
    "- Processing Form Data: It allows extraction of form data submitted by the client.\n",
    "- Retrieving Query Parameters: It facilitates access to the query parameters in the URL.\n",
    "- File Uploads: It provides mechanisms to handle file uploads from the client.\n",
    "- Accessing Headers and Cookies: It allows access to request headers and cookies sent by the client.\n",
    "- Session Management: It assists in managing user sessions.\n",
    "\n",
    "\n",
    "The request object gives access to data sent with the request. This includes form data, JSON payloads, and other data formats:\n",
    "\n",
    "\n",
    "from flask import Flask, request\n",
    "\n",
    "app = Flask(__name__)\n",
    "\n",
    "@app.route('/submit', methods=['POST'])\n",
    "\n",
    "def submit():\n",
    "    \n",
    "    data = request.form['data']  # Access form data\n",
    "    json_data = request.get_json()  # Access JSON data\n",
    "    return f\"Form data: {data}, JSON data: {json_data}\""
   ]
  },
  {
   "cell_type": "code",
   "execution_count": null,
   "id": "29d90b5e-4c3c-48a5-ae02-8bb2e52af426",
   "metadata": {},
   "outputs": [],
   "source": []
  },
  {
   "cell_type": "markdown",
   "id": "0a95ad11-6b58-4b61-ad0e-5efea65074ed",
   "metadata": {},
   "source": [
    "# Q3. Why is redirect() used in Flask?"
   ]
  },
  {
   "cell_type": "markdown",
   "id": "89981905-e759-4a3e-afed-57f80566aca2",
   "metadata": {},
   "source": [
    "- The redirect() function in Flask is used to send an HTTP redirect response to the client. This response tells the client (usually a web browser) to make a new request to a different URL. The redirect() function is part of Flask’s utilities to handle HTTP responses effectively, enabling developers to manage the flow of web applications smoothly.\n",
    "\n",
    "\n",
    "1) Changing URLs After Form Submission\n",
    "After processing form data, it’s a common practice to redirect the user to another page. This prevents issues like form resubmission if the user refreshes the page.\n",
    "\n",
    "\n",
    "from flask import Flask, request, redirect, url_for\n",
    "\n",
    "app = Flask(__name__)\n",
    "\n",
    "@app.route('/submit', methods=['POST'])\n",
    "\n",
    "def submit_form():\n",
    "  \n",
    "    # Process form data\n",
    "    # ...\n",
    "    return redirect(url_for('success'))\n",
    "\n",
    "@app.route('/success')\n",
    "def success():\n",
    "    \n",
    "    return \"Form successfully submitted!\"\n",
    "\n",
    "2) Implementing URL Shortening or Redirection Services\n",
    "In services like URL shorteners, redirect() can send users from a short URL to the original long URL.\n",
    "\n",
    "\n",
    "@app.route('/<short_url>')\n",
    "\n",
    "def redirect_short_url(short_url):\n",
    "\n",
    "    # Retrieve the original URL from the database\n",
    "    original_url = get_original_url(short_url)\n",
    "    return redirect(original_url)\n",
    "\n",
    "The redirect() function in Flask is an essential tool for managing web application flow and user navigation. It is used to:\n",
    "\n",
    "- Prevent form resubmission issues by redirecting after form processing.\n",
    "- Implement URL redirection services like URL shorteners.\n",
    "- Handle post-login redirection to user-specific pages.\n",
    "- Maintain compatibility during page migrations or URL structure changes.\n",
    "- Navigate users conditionally based on roles or other criteria.\n",
    "- Overall, redirect() helps create a smooth and intuitive user experience by efficiently managing how users are directed to various parts of a web application."
   ]
  },
  {
   "cell_type": "code",
   "execution_count": null,
   "id": "8d0dfe87-b13a-47a9-8205-afe31deead69",
   "metadata": {},
   "outputs": [],
   "source": []
  },
  {
   "cell_type": "markdown",
   "id": "9582b91a-673c-40c1-870e-32f34f54df2a",
   "metadata": {},
   "source": [
    "# Q4. What are templates in Flask? Why is the render_template() function used?"
   ]
  },
  {
   "cell_type": "markdown",
   "id": "554ccf4d-f7ae-4a4c-9356-dff23ea473b0",
   "metadata": {},
   "source": [
    "- Templates in Flask are files that contain HTML (or other markup languages) mixed with placeholders for dynamic content. These placeholders are replaced with actual data when the template is rendered. Templates help separate the presentation logic from the application logic, promoting a clean and maintainable code structure.\n",
    "\n",
    "Purpose of Templates:\n",
    "- Separation of Concerns: Keep HTML/CSS separate from Python code.\n",
    "- Reusability: Common HTML structures (like headers, footers) can be reused across multiple pages.\n",
    "- Dynamic Content: Inject dynamic data into the HTML content easily.\n",
    "\n",
    "Flask uses Jinja2 as its default templating engine. Jinja2 allows you to use various programming constructs such as loops, conditionals, and template inheritance directly in your HTML files.\n",
    "\n",
    "- The render_template() function in Flask is used to render a template file with the provided context data. It takes the name of the template file as its first argument and any number of keyword arguments representing the data to be passed into the template.\n",
    "\n",
    "Purpose of render_template():\n",
    "- Render HTML Files: Generate HTML from template files.\n",
    "- Inject Data: Pass dynamic data from Python code to the template.\n",
    "- Generate Complete HTML Responses: Create complete HTML responses by combining templates with data.\n",
    "\n",
    "- Templates and render_template() in Flask facilitate the creation of dynamic, maintainable, and reusable web pages by allowing the separation of the HTML structure from the application logic."
   ]
  },
  {
   "cell_type": "code",
   "execution_count": null,
   "id": "3438d873-6503-45f4-9126-f03eac1ada39",
   "metadata": {},
   "outputs": [],
   "source": []
  },
  {
   "cell_type": "markdown",
   "id": "9bf7134c-036e-4e36-867d-51a1698c5d01",
   "metadata": {},
   "source": [
    "# Q5. Create a simple API. Use Postman to test it. Attach the screenshot of the output in the Jupyter Notebook."
   ]
  },
  {
   "cell_type": "markdown",
   "id": "ec7166dc-f8ac-4822-b6d4-86cc7668e595",
   "metadata": {},
   "source": [
    "from flask import Flask\n",
    "\n",
    "app = Flask(__name__)\n",
    "\n",
    "@app.route(\"/\")\n",
    "\n",
    "   def hello_world():\n",
    "      return \"This is my API!\"\n",
    "\n",
    "\n",
    "if __name__==\"__main__\":\n",
    "    app.run(host=\"0.0.0.0\")"
   ]
  },
  {
   "cell_type": "markdown",
   "id": "fa2cfdb5-cdce-4439-af35-f623b3f171a3",
   "metadata": {},
   "source": [
    "<img src = \"postman_api.jpg\"/>"
   ]
  },
  {
   "cell_type": "markdown",
   "id": "2959149e-1636-4a95-9bcb-20408354712f",
   "metadata": {},
   "source": [
    "<img src = \"op-1.jpg\"/>"
   ]
  },
  {
   "cell_type": "code",
   "execution_count": null,
   "id": "f82b6915-89da-454d-a9ca-3b9f60fe6cb7",
   "metadata": {},
   "outputs": [],
   "source": []
  }
 ],
 "metadata": {
  "kernelspec": {
   "display_name": "Python 3 (ipykernel)",
   "language": "python",
   "name": "python3"
  },
  "language_info": {
   "codemirror_mode": {
    "name": "ipython",
    "version": 3
   },
   "file_extension": ".py",
   "mimetype": "text/x-python",
   "name": "python",
   "nbconvert_exporter": "python",
   "pygments_lexer": "ipython3",
   "version": "3.10.8"
  }
 },
 "nbformat": 4,
 "nbformat_minor": 5
}
